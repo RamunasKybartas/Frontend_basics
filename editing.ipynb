{
 "cells": [
  {
   "cell_type": "code",
   "execution_count": 1,
   "metadata": {},
   "outputs": [],
   "source": [
    "from PIL import Image\n"
   ]
  },
  {
   "cell_type": "code",
   "execution_count": 40,
   "metadata": {},
   "outputs": [
    {
     "data": {
      "text/plain": [
       "(450, 850)"
      ]
     },
     "execution_count": 40,
     "metadata": {},
     "output_type": "execute_result"
    }
   ],
   "source": [
    "foto = Image.open(\"static/court.jpg\")\n",
    "foto = foto.resize([450,850])\n",
    "pasukta = foto.rotate(270)\n",
    "\n",
    "# foto.show()\n",
    "pasukta.size"
   ]
  },
  {
   "cell_type": "code",
   "execution_count": 41,
   "metadata": {},
   "outputs": [],
   "source": [
    "pasukta.size\n",
    "pasukta.show()"
   ]
  },
  {
   "cell_type": "code",
   "execution_count": 48,
   "metadata": {},
   "outputs": [],
   "source": [
    "nauja = pasukta.crop([0,200,450,650])\n",
    "\n",
    "nauja.save(\"static/nauja_court.jpg\")"
   ]
  }
 ],
 "metadata": {
  "kernelspec": {
   "display_name": "Python 3.10.6 ('venv': venv)",
   "language": "python",
   "name": "python3"
  },
  "language_info": {
   "codemirror_mode": {
    "name": "ipython",
    "version": 3
   },
   "file_extension": ".py",
   "mimetype": "text/x-python",
   "name": "python",
   "nbconvert_exporter": "python",
   "pygments_lexer": "ipython3",
   "version": "3.10.6"
  },
  "orig_nbformat": 4,
  "vscode": {
   "interpreter": {
    "hash": "db2f706b73a00f6c91bea6257a17af663d13b10a2225c34695c7ef00f8ac2cb5"
   }
  }
 },
 "nbformat": 4,
 "nbformat_minor": 2
}
